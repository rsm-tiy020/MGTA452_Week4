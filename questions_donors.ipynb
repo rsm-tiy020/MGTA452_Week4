{
 "cells": [
  {
   "cell_type": "markdown",
   "id": "fc4e90fa",
   "metadata": {},
   "source": [
    "# Donors Choose Analytics\n",
    "\n",
    "In this case you are tasked with some exploratory data analysis of the Donors Choose data. You have donations in the `donations.csv` file and project information in the `projects.csv` file. Recall that each row in the donations file is a donation made to a project in the projects file. \n",
    "\n",
    "\n",
    "## Question 1\n",
    "\n",
    "Start by focusing on the projects. Each project has a poverty level. This is the poverty level of the area where the school related to the project is located. How is a project's poverty level associated with donations to the project? Start by translating the objective into a series of R queries: What should go in the \"group_by\"? Do you need to filter out rows first? Do you need to join in other data? what summaries should be computed?\n",
    "\n",
    "To get started think about the following: \n",
    "    - How many projects are there for each poverty level? \n",
    "    - What is the total amount of funds raised for each poverty level? \n",
    "    - How many donors made donations at each poverty level? \n",
    "    - What was the average amount of funds raised per project for each poverty level?\n",
    "    - How many donors made contributions on average per project for each poverty level?\n",
    "\n",
    "The key data fields in the projects data frame for this objective are \n",
    "\n",
    "            poverty_level     : poverty_level of project\n",
    "            total_donations   : total funds raised for project\n",
    "            num_donors        : Number of donors making contributions to project\n"
   ]
  },
  {
   "cell_type": "code",
   "execution_count": null,
   "id": "8086d6d7",
   "metadata": {},
   "outputs": [],
   "source": [
    "# write code here"
   ]
  },
  {
   "cell_type": "markdown",
   "id": "4466b862",
   "metadata": {},
   "source": [
    "write comments here"
   ]
  },
  {
   "cell_type": "markdown",
   "id": "10d85459",
   "metadata": {},
   "source": [
    "## Question 2\n",
    "\n",
    "The projects data frame contains another data field called `funding_status`. This is equal to \"completed\" if \n",
    "the project reached its goal and \"expired\" if the project didn't meet its goal. The \"funding_status\" can also be \"live\", meaning that the project was still receiving donations at the time of data collection. A small number of projects receive funds that are reallocated to another project (funding_status = \"reallocated\").\n",
    "\n",
    "For this question, focus on projects that have a funding_status of either \"completed\" or \"expired\". Is there a link between a project's poverty level and its probability of reaching its goal? "
   ]
  },
  {
   "cell_type": "code",
   "execution_count": null,
   "id": "3c141f9e",
   "metadata": {},
   "outputs": [],
   "source": [
    "# write code here"
   ]
  },
  {
   "cell_type": "markdown",
   "id": "8490887b",
   "metadata": {},
   "source": [
    "write comments here"
   ]
  },
  {
   "cell_type": "markdown",
   "id": "38b16cd1",
   "metadata": {},
   "source": [
    "## Question 3\n",
    "\n",
    "The projects data frame contains another data field called `total_price_including_optional_support`. This is \n",
    "the fundraising goal of the project, i.e., how much money should be raised. Do projects for low poverty schools seek\n",
    "more money per project than projects in high poverty schools? In other words, is there evidence for fundraising goals to be associated with project poverty level? For this question focus on the full data for all projects."
   ]
  },
  {
   "cell_type": "code",
   "execution_count": null,
   "id": "b28a8d83",
   "metadata": {},
   "outputs": [],
   "source": [
    "# write code here"
   ]
  },
  {
   "cell_type": "markdown",
   "id": "9c62f7ad",
   "metadata": {},
   "source": [
    "write comments here"
   ]
  },
  {
   "cell_type": "markdown",
   "id": "72db2da2",
   "metadata": {},
   "source": [
    "## Question 4\n",
    "The projects data frame contains another data field called \"resource_type\". This is the main type of resource that the projects seeks to fund (e.g., books, technology etc.). Does funding amount and success depend on the resource type of the project? Focus on metrics that you think are relevant. For this question, focus on projects that have a funding_status of either \"completed\" or \"expired\". Note: `resource_type` has a few NAs - you might want to get rid of those first. "
   ]
  },
  {
   "cell_type": "code",
   "execution_count": null,
   "id": "38b2cc0b",
   "metadata": {},
   "outputs": [],
   "source": [
    "# write code here"
   ]
  },
  {
   "cell_type": "markdown",
   "id": "868e145a",
   "metadata": {},
   "source": [
    "write comments here"
   ]
  },
  {
   "cell_type": "markdown",
   "id": "a5abcb3d",
   "metadata": {},
   "source": [
    "## Question 5\n",
    "The projects data frame contains another data field called \"primary_focus_area\". This is the main type of academic for the project (e.g., Music & The Arts,Health & Sports etc.). Does funding amount and success depend on the academic area of the project? Focus on metrics that you think are relevant. For this question, focus on projects that have a funding_status of either \"completed\" or \"expired\". Note: `primary_focus_area` has a few NAs that you might want to filter out. "
   ]
  },
  {
   "cell_type": "code",
   "execution_count": null,
   "id": "6f03cd51",
   "metadata": {},
   "outputs": [],
   "source": [
    "# write code here"
   ]
  },
  {
   "cell_type": "markdown",
   "id": "dc0996b8",
   "metadata": {},
   "source": [
    "write comments here"
   ]
  },
  {
   "cell_type": "markdown",
   "id": "2d042b10",
   "metadata": {},
   "source": [
    "## Question 6\n",
    "The state code for each project/school is `school_state`. How does the success of getting projects in the \"Math & Science\"\n",
    "area funded vary by state? Focus on states that have at least 1,000 projects that are either \"completed\" or \"expired\"."
   ]
  },
  {
   "cell_type": "code",
   "execution_count": null,
   "id": "8d8de59f",
   "metadata": {},
   "outputs": [],
   "source": [
    "# write code here"
   ]
  },
  {
   "cell_type": "markdown",
   "id": "501b1df0",
   "metadata": {},
   "source": [
    "write comments here"
   ]
  },
  {
   "cell_type": "markdown",
   "id": "974ea2f3",
   "metadata": {},
   "source": [
    "## Question 7\n",
    "\n",
    "How does the probability of reaching the funding goal depend on the size of the funding goal? Start by looking at all projects who are either completed or expired. Next divide all projects into funding goal categories.You can easily do this by using the `qcut` function in pandas (for example `pd.qcut(df['x'], q=10)` will chop up x into 10 equal sized categories. Then compare funding status for the different funding goal categories. For this question, focus on projects that have a funding_status of either \"completed\" or \"expired\""
   ]
  },
  {
   "cell_type": "code",
   "execution_count": null,
   "id": "09286cd3",
   "metadata": {},
   "outputs": [],
   "source": [
    "# write code here"
   ]
  },
  {
   "cell_type": "markdown",
   "id": "6dca910d",
   "metadata": {},
   "source": [
    "write comments here"
   ]
  },
  {
   "cell_type": "markdown",
   "id": "d9601f09",
   "metadata": {},
   "source": [
    "## Question 8\n",
    "\n",
    "Let's now bring in the donor file, donations. Let's compare donor behavior across 5 states: California,New York, Illinois, Texas and Florida. You can find donors in these states by using donor_state limited to \"CA\",\"NY\",\"IL\",\"TX\",\"FL\". Note that a donor in a given state can donate to a project in ANY state - they are not limited to donate to project in the state where they live. \n",
    "\n",
    "Try to analyze donor preferences in these 5 states in terms of the academic area of the project (primary_focus_area). Focus on the share of dollar donations across `primary_focus_area` within each of the 5 states. Is there variation in shares across states? For this question you can use the full projects data."
   ]
  },
  {
   "cell_type": "code",
   "execution_count": null,
   "id": "cfb75be1",
   "metadata": {},
   "outputs": [],
   "source": [
    "# write code here"
   ]
  },
  {
   "cell_type": "markdown",
   "id": "7c50855d",
   "metadata": {},
   "source": [
    "write comments here"
   ]
  }
 ],
 "metadata": {
  "kernelspec": {
   "display_name": "Python 3",
   "language": "python",
   "name": "python3"
  },
  "language_info": {
   "codemirror_mode": {
    "name": "ipython",
    "version": 3
   },
   "file_extension": ".py",
   "mimetype": "text/x-python",
   "name": "python",
   "nbconvert_exporter": "python",
   "pygments_lexer": "ipython3",
   "version": "3.8.5"
  }
 },
 "nbformat": 4,
 "nbformat_minor": 5
}
